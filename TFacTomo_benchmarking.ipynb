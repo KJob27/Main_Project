{
 "cells": [
  {
   "cell_type": "code",
   "execution_count": 1,
   "metadata": {},
   "outputs": [
    {
     "ename": "ModuleNotFoundError",
     "evalue": "No module named 'numpy'",
     "output_type": "error",
     "traceback": [
      "\u001b[0;31m---------------------------------------------------------------------------\u001b[0m",
      "\u001b[0;31mModuleNotFoundError\u001b[0m                       Traceback (most recent call last)",
      "\u001b[0;32m<ipython-input-1-8d4b14a14d35>\u001b[0m in \u001b[0;36m<cell line: 5>\u001b[0;34m()\u001b[0m\n\u001b[1;32m      3\u001b[0m \u001b[0;32mimport\u001b[0m \u001b[0mos\u001b[0m\u001b[0;34m\u001b[0m\u001b[0;34m\u001b[0m\u001b[0m\n\u001b[1;32m      4\u001b[0m \u001b[0;32mimport\u001b[0m \u001b[0mgc\u001b[0m\u001b[0;34m\u001b[0m\u001b[0;34m\u001b[0m\u001b[0m\n\u001b[0;32m----> 5\u001b[0;31m \u001b[0;32mimport\u001b[0m \u001b[0mnumpy\u001b[0m \u001b[0;32mas\u001b[0m \u001b[0mnp\u001b[0m\u001b[0;34m\u001b[0m\u001b[0;34m\u001b[0m\u001b[0m\n\u001b[0m\u001b[1;32m      6\u001b[0m \u001b[0;32mimport\u001b[0m \u001b[0mtensorly\u001b[0m \u001b[0;32mas\u001b[0m \u001b[0mtl\u001b[0m\u001b[0;34m\u001b[0m\u001b[0;34m\u001b[0m\u001b[0m\n\u001b[1;32m      7\u001b[0m \u001b[0;32mimport\u001b[0m \u001b[0mtorch\u001b[0m\u001b[0;34m\u001b[0m\u001b[0;34m\u001b[0m\u001b[0m\n",
      "\u001b[0;31mModuleNotFoundError\u001b[0m: No module named 'numpy'"
     ]
    }
   ],
   "source": [
    "# Load required packages\n",
    "\n",
    "import os\n",
    "import gc\n",
    "import numpy as np\n",
    "import tensorly as tl\n",
    "import torch\n",
    "from functools import reduce\n",
    "from TFacTomo import reconstruct\n",
    "\n",
    "# Set tensorly backend as pytorch\n",
    "tl.set_backend('pytorch')\n",
    "\n",
    "# Load 1D gene expression data along different spatial axes\n",
    "X_x = np.load(\"/Users/kimjob/PhD/PhD/Scripts/Main Project/Tomo-Seq/TFacTomo_OM_data/data/mouse_olfactory_mucosa/normalized_fitted_lml_data.npy\"); X_x = torch.from_numpy(X_x).to(torch.float)\n",
    "X_y = np.load(\"/Users/kimjob/PhD/PhD/Scripts/Main Project/Tomo-Seq/TFacTomo_OM_data/data/mouse_olfactory_mucosa/normalized_fitted_dv_data.npy\"); X_y = torch.from_numpy(X_y).to(torch.float)\n",
    "X_z = np.load(\"/Users/kimjob/PhD/PhD/Scripts/Main Project/Tomo-Seq/TFacTomo_OM_data/data/mouse_olfactory_mucosa/normalized_fitted_ap_data.npy\"); X_z = torch.from_numpy(X_z).to(torch.float)\n",
    "\n",
    "genes = np.loadtxt(\"/Users/kimjob/PhD/PhD/Scripts/Main Project/Tomo-Seq/TFacTomo_OM_data/data/mouse_olfactory_mucosa/genes.txt\", dtype=str)\n",
    "# Load knowledge graphs along gene and spatial axes\n",
    "W_g = np.load(\"/Users/kimjob/PhD/PhD/Scripts/Main Project/Tomo-Seq/TFacTomo_OM_data/data/mouse_olfactory_mucosa/mus_musculus_ppi_adjacency_matrix.npy\"); W_g = torch.from_numpy(W_g).to(torch.float)\n",
    "W_x = np.load(\"/Users/kimjob/PhD/PhD/Scripts/Main Project/Tomo-Seq/TFacTomo_OM_data/data/mouse_olfactory_mucosa/W_x.npy\"); W_x = torch.from_numpy(W_x).to(torch.float)\n",
    "W_y = np.load(\"/Users/kimjob/PhD/PhD/Scripts/Main Project/Tomo-Seq/TFacTomo_OM_data/data/mouse_olfactory_mucosa/W_y.npy\"); W_y = torch.from_numpy(W_y).to(torch.float)\n",
    "W_z = np.load(\"/Users/kimjob/PhD/PhD/Scripts/Main Project/Tomo-Seq/TFacTomo_OM_data/data/mouse_olfactory_mucosa/W_z.npy\"); W_z = torch.from_numpy(W_z).to(torch.float)\n",
    "\n",
    "\n",
    "# Load the 3D binary mask \n",
    "M = np.load(\"/Users/kimjob/PhD/PhD/Scripts/Main Project/Tomo-Seq/TFacTomo_OM_data/data/mouse_olfactory_mucosa/mouse_olfactory_mucosa_mask.npy\"); M = torch.from_numpy(M).to(torch.float)\n"
   ]
  },
  {
   "cell_type": "code",
   "execution_count": 3,
   "metadata": {},
   "outputs": [
    {
     "name": "stdout",
     "output_type": "stream",
     "text": [
      "/Users/kimjob/opt/anaconda3/envs/tfactomo/bin/python\n",
      "/Users/kimjob/opt/anaconda3/envs/tfactomo/bin/pip\n"
     ]
    }
   ],
   "source": [
    "# check which Kernel is actively used\n",
    "\n",
    "import sys, os\n",
    "print(sys.executable)\n",
    "!which pip\n"
   ]
  },
  {
   "cell_type": "code",
   "execution_count": null,
   "metadata": {},
   "outputs": [],
   "source": []
  }
 ],
 "metadata": {
  "kernelspec": {
   "display_name": "Python (tfactomo)",
   "language": "python",
   "name": "tfactomo"
  },
  "language_info": {
   "codemirror_mode": {
    "name": "ipython",
    "version": 3
   },
   "file_extension": ".py",
   "mimetype": "text/x-python",
   "name": "python",
   "nbconvert_exporter": "python",
   "pygments_lexer": "ipython3",
   "version": "3.8.12"
  }
 },
 "nbformat": 4,
 "nbformat_minor": 2
}
